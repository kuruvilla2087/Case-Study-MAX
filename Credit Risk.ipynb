{
 "cells": [
  {
   "cell_type": "code",
   "execution_count": 6,
   "metadata": {},
   "outputs": [],
   "source": [
    "import pandas as pd\n",
    "import numpy as np\n",
    "import seaborn as sns\n",
    "import matplotlib.pyplot as plt\n",
    "import scipy.stats as stats\n",
    "\n",
    "\n",
    "%matplotlib inline\n",
    "plt.rcParams['figure.figsize'] = 10, 8\n",
    "plt.style.use(\"seaborn\")\n",
    "pd.set_option('display.max_rows', 500)\n",
    "pd.set_option('display.max_columns', 500)\n",
    "pd.set_option('display.width', 1000)"
   ]
  },
  {
   "cell_type": "code",
   "execution_count": 24,
   "metadata": {},
   "outputs": [],
   "source": [
    "bankloans = pd.read_csv(\"case_study_data.csv\")"
   ]
  },
  {
   "cell_type": "code",
   "execution_count": 25,
   "metadata": {},
   "outputs": [
    {
     "name": "stdout",
     "output_type": "stream",
     "text": [
      "<class 'pandas.core.frame.DataFrame'>\n",
      "RangeIndex: 1000 entries, 0 to 999\n",
      "Data columns (total 21 columns):\n",
      "checkin_acc          1000 non-null object\n",
      "duration             1000 non-null int64\n",
      "credit_history       1000 non-null object\n",
      "purpose              1000 non-null object\n",
      "amount               1000 non-null int64\n",
      "svaing_acc           1000 non-null object\n",
      "present_emp_since    1000 non-null object\n",
      "inst_rate            1000 non-null int64\n",
      "personal_status      1000 non-null object\n",
      "other_debtors        1000 non-null object\n",
      "residing_since       1000 non-null int64\n",
      "property             1000 non-null object\n",
      "age                  1000 non-null int64\n",
      "inst_plans           1000 non-null object\n",
      "housing              1000 non-null object\n",
      "num_credits          1000 non-null int64\n",
      "job                  1000 non-null object\n",
      "dependents           1000 non-null int64\n",
      "telephone            1000 non-null object\n",
      "foreign_worker       1000 non-null object\n",
      "status               1000 non-null int64\n",
      "dtypes: int64(8), object(13)\n",
      "memory usage: 164.1+ KB\n"
     ]
    }
   ],
   "source": [
    "bankloans.info()"
   ]
  },
  {
   "cell_type": "code",
   "execution_count": 9,
   "metadata": {},
   "outputs": [
    {
     "data": {
      "text/html": [
       "<div>\n",
       "<style scoped>\n",
       "    .dataframe tbody tr th:only-of-type {\n",
       "        vertical-align: middle;\n",
       "    }\n",
       "\n",
       "    .dataframe tbody tr th {\n",
       "        vertical-align: top;\n",
       "    }\n",
       "\n",
       "    .dataframe thead th {\n",
       "        text-align: right;\n",
       "    }\n",
       "</style>\n",
       "<table border=\"1\" class=\"dataframe\">\n",
       "  <thead>\n",
       "    <tr style=\"text-align: right;\">\n",
       "      <th></th>\n",
       "      <th>checkin_acc</th>\n",
       "      <th>duration</th>\n",
       "      <th>credit_history</th>\n",
       "      <th>purpose</th>\n",
       "      <th>amount</th>\n",
       "      <th>svaing_acc</th>\n",
       "      <th>present_emp_since</th>\n",
       "      <th>inst_rate</th>\n",
       "      <th>personal_status</th>\n",
       "      <th>other_debtors</th>\n",
       "      <th>residing_since</th>\n",
       "      <th>property</th>\n",
       "      <th>age</th>\n",
       "      <th>inst_plans</th>\n",
       "      <th>housing</th>\n",
       "      <th>num_credits</th>\n",
       "      <th>job</th>\n",
       "      <th>dependents</th>\n",
       "      <th>telephone</th>\n",
       "      <th>foreign_worker</th>\n",
       "      <th>status</th>\n",
       "    </tr>\n",
       "  </thead>\n",
       "  <tbody>\n",
       "    <tr>\n",
       "      <th>0</th>\n",
       "      <td>A11</td>\n",
       "      <td>9</td>\n",
       "      <td>A34</td>\n",
       "      <td>A43</td>\n",
       "      <td>1754</td>\n",
       "      <td>A65</td>\n",
       "      <td>A75</td>\n",
       "      <td>6</td>\n",
       "      <td>A93</td>\n",
       "      <td>A101</td>\n",
       "      <td>6</td>\n",
       "      <td>A121</td>\n",
       "      <td>101</td>\n",
       "      <td>A143</td>\n",
       "      <td>A152</td>\n",
       "      <td>3</td>\n",
       "      <td>A173</td>\n",
       "      <td>2</td>\n",
       "      <td>A192</td>\n",
       "      <td>A201</td>\n",
       "      <td>1</td>\n",
       "    </tr>\n",
       "    <tr>\n",
       "      <th>1</th>\n",
       "      <td>A12</td>\n",
       "      <td>72</td>\n",
       "      <td>A32</td>\n",
       "      <td>A43</td>\n",
       "      <td>8927</td>\n",
       "      <td>A61</td>\n",
       "      <td>A73</td>\n",
       "      <td>3</td>\n",
       "      <td>A92</td>\n",
       "      <td>A101</td>\n",
       "      <td>3</td>\n",
       "      <td>A121</td>\n",
       "      <td>33</td>\n",
       "      <td>A143</td>\n",
       "      <td>A152</td>\n",
       "      <td>2</td>\n",
       "      <td>A173</td>\n",
       "      <td>2</td>\n",
       "      <td>A191</td>\n",
       "      <td>A201</td>\n",
       "      <td>2</td>\n",
       "    </tr>\n",
       "    <tr>\n",
       "      <th>2</th>\n",
       "      <td>A14</td>\n",
       "      <td>18</td>\n",
       "      <td>A34</td>\n",
       "      <td>A46</td>\n",
       "      <td>3144</td>\n",
       "      <td>A61</td>\n",
       "      <td>A74</td>\n",
       "      <td>3</td>\n",
       "      <td>A93</td>\n",
       "      <td>A101</td>\n",
       "      <td>5</td>\n",
       "      <td>A121</td>\n",
       "      <td>74</td>\n",
       "      <td>A143</td>\n",
       "      <td>A152</td>\n",
       "      <td>2</td>\n",
       "      <td>A172</td>\n",
       "      <td>3</td>\n",
       "      <td>A191</td>\n",
       "      <td>A201</td>\n",
       "      <td>1</td>\n",
       "    </tr>\n",
       "    <tr>\n",
       "      <th>3</th>\n",
       "      <td>A11</td>\n",
       "      <td>63</td>\n",
       "      <td>A32</td>\n",
       "      <td>A42</td>\n",
       "      <td>11823</td>\n",
       "      <td>A61</td>\n",
       "      <td>A74</td>\n",
       "      <td>3</td>\n",
       "      <td>A93</td>\n",
       "      <td>A103</td>\n",
       "      <td>6</td>\n",
       "      <td>A122</td>\n",
       "      <td>68</td>\n",
       "      <td>A143</td>\n",
       "      <td>A153</td>\n",
       "      <td>2</td>\n",
       "      <td>A173</td>\n",
       "      <td>3</td>\n",
       "      <td>A191</td>\n",
       "      <td>A201</td>\n",
       "      <td>1</td>\n",
       "    </tr>\n",
       "    <tr>\n",
       "      <th>4</th>\n",
       "      <td>A11</td>\n",
       "      <td>36</td>\n",
       "      <td>A33</td>\n",
       "      <td>A40</td>\n",
       "      <td>7305</td>\n",
       "      <td>A61</td>\n",
       "      <td>A73</td>\n",
       "      <td>5</td>\n",
       "      <td>A93</td>\n",
       "      <td>A101</td>\n",
       "      <td>6</td>\n",
       "      <td>A124</td>\n",
       "      <td>80</td>\n",
       "      <td>A143</td>\n",
       "      <td>A153</td>\n",
       "      <td>3</td>\n",
       "      <td>A173</td>\n",
       "      <td>3</td>\n",
       "      <td>A191</td>\n",
       "      <td>A201</td>\n",
       "      <td>2</td>\n",
       "    </tr>\n",
       "  </tbody>\n",
       "</table>\n",
       "</div>"
      ],
      "text/plain": [
       "  checkin_acc  duration credit_history purpose  amount svaing_acc present_emp_since  inst_rate personal_status other_debtors  residing_since property  age inst_plans housing  num_credits   job  dependents telephone foreign_worker  status\n",
       "0         A11         9            A34     A43    1754        A65               A75          6             A93          A101               6     A121  101       A143    A152            3  A173           2      A192           A201       1\n",
       "1         A12        72            A32     A43    8927        A61               A73          3             A92          A101               3     A121   33       A143    A152            2  A173           2      A191           A201       2\n",
       "2         A14        18            A34     A46    3144        A61               A74          3             A93          A101               5     A121   74       A143    A152            2  A172           3      A191           A201       1\n",
       "3         A11        63            A32     A42   11823        A61               A74          3             A93          A103               6     A122   68       A143    A153            2  A173           3      A191           A201       1\n",
       "4         A11        36            A33     A40    7305        A61               A73          5             A93          A101               6     A124   80       A143    A153            3  A173           3      A191           A201       2"
      ]
     },
     "execution_count": 9,
     "metadata": {},
     "output_type": "execute_result"
    }
   ],
   "source": [
    "bankloans.head()"
   ]
  },
  {
   "cell_type": "code",
   "execution_count": 11,
   "metadata": {},
   "outputs": [
    {
     "data": {
      "text/html": [
       "<div>\n",
       "<style scoped>\n",
       "    .dataframe tbody tr th:only-of-type {\n",
       "        vertical-align: middle;\n",
       "    }\n",
       "\n",
       "    .dataframe tbody tr th {\n",
       "        vertical-align: top;\n",
       "    }\n",
       "\n",
       "    .dataframe thead th {\n",
       "        text-align: right;\n",
       "    }\n",
       "</style>\n",
       "<table border=\"1\" class=\"dataframe\">\n",
       "  <thead>\n",
       "    <tr style=\"text-align: right;\">\n",
       "      <th></th>\n",
       "      <th>duration</th>\n",
       "      <th>amount</th>\n",
       "      <th>inst_rate</th>\n",
       "      <th>residing_since</th>\n",
       "      <th>age</th>\n",
       "      <th>num_credits</th>\n",
       "      <th>dependents</th>\n",
       "      <th>status</th>\n",
       "    </tr>\n",
       "  </thead>\n",
       "  <tbody>\n",
       "    <tr>\n",
       "      <th>count</th>\n",
       "      <td>1000.000000</td>\n",
       "      <td>1000.000000</td>\n",
       "      <td>1000.000000</td>\n",
       "      <td>1000.000000</td>\n",
       "      <td>1000.000000</td>\n",
       "      <td>1000.000000</td>\n",
       "      <td>1000.000000</td>\n",
       "      <td>1000.000000</td>\n",
       "    </tr>\n",
       "    <tr>\n",
       "      <th>mean</th>\n",
       "      <td>31.449000</td>\n",
       "      <td>4907.134000</td>\n",
       "      <td>4.606000</td>\n",
       "      <td>4.407000</td>\n",
       "      <td>53.566000</td>\n",
       "      <td>2.441000</td>\n",
       "      <td>2.155000</td>\n",
       "      <td>1.300000</td>\n",
       "    </tr>\n",
       "    <tr>\n",
       "      <th>std</th>\n",
       "      <td>18.055564</td>\n",
       "      <td>4234.100176</td>\n",
       "      <td>1.572016</td>\n",
       "      <td>1.570292</td>\n",
       "      <td>17.065664</td>\n",
       "      <td>0.697858</td>\n",
       "      <td>0.362086</td>\n",
       "      <td>0.458487</td>\n",
       "    </tr>\n",
       "    <tr>\n",
       "      <th>min</th>\n",
       "      <td>6.000000</td>\n",
       "      <td>375.000000</td>\n",
       "      <td>2.000000</td>\n",
       "      <td>2.000000</td>\n",
       "      <td>29.000000</td>\n",
       "      <td>2.000000</td>\n",
       "      <td>2.000000</td>\n",
       "      <td>1.000000</td>\n",
       "    </tr>\n",
       "    <tr>\n",
       "      <th>25%</th>\n",
       "      <td>18.000000</td>\n",
       "      <td>2048.250000</td>\n",
       "      <td>3.000000</td>\n",
       "      <td>3.000000</td>\n",
       "      <td>41.000000</td>\n",
       "      <td>2.000000</td>\n",
       "      <td>2.000000</td>\n",
       "      <td>1.000000</td>\n",
       "    </tr>\n",
       "    <tr>\n",
       "      <th>50%</th>\n",
       "      <td>27.000000</td>\n",
       "      <td>3479.500000</td>\n",
       "      <td>5.000000</td>\n",
       "      <td>5.000000</td>\n",
       "      <td>50.000000</td>\n",
       "      <td>2.000000</td>\n",
       "      <td>2.000000</td>\n",
       "      <td>1.000000</td>\n",
       "    </tr>\n",
       "    <tr>\n",
       "      <th>75%</th>\n",
       "      <td>36.000000</td>\n",
       "      <td>5958.500000</td>\n",
       "      <td>6.000000</td>\n",
       "      <td>6.000000</td>\n",
       "      <td>63.000000</td>\n",
       "      <td>3.000000</td>\n",
       "      <td>2.000000</td>\n",
       "      <td>2.000000</td>\n",
       "    </tr>\n",
       "    <tr>\n",
       "      <th>max</th>\n",
       "      <td>108.000000</td>\n",
       "      <td>27636.000000</td>\n",
       "      <td>6.000000</td>\n",
       "      <td>6.000000</td>\n",
       "      <td>113.000000</td>\n",
       "      <td>6.000000</td>\n",
       "      <td>3.000000</td>\n",
       "      <td>2.000000</td>\n",
       "    </tr>\n",
       "  </tbody>\n",
       "</table>\n",
       "</div>"
      ],
      "text/plain": [
       "          duration        amount    inst_rate  residing_since          age  num_credits   dependents       status\n",
       "count  1000.000000   1000.000000  1000.000000     1000.000000  1000.000000  1000.000000  1000.000000  1000.000000\n",
       "mean     31.449000   4907.134000     4.606000        4.407000    53.566000     2.441000     2.155000     1.300000\n",
       "std      18.055564   4234.100176     1.572016        1.570292    17.065664     0.697858     0.362086     0.458487\n",
       "min       6.000000    375.000000     2.000000        2.000000    29.000000     2.000000     2.000000     1.000000\n",
       "25%      18.000000   2048.250000     3.000000        3.000000    41.000000     2.000000     2.000000     1.000000\n",
       "50%      27.000000   3479.500000     5.000000        5.000000    50.000000     2.000000     2.000000     1.000000\n",
       "75%      36.000000   5958.500000     6.000000        6.000000    63.000000     3.000000     2.000000     2.000000\n",
       "max     108.000000  27636.000000     6.000000        6.000000   113.000000     6.000000     3.000000     2.000000"
      ]
     },
     "execution_count": 11,
     "metadata": {},
     "output_type": "execute_result"
    }
   ],
   "source": [
    "bankloans.describe()"
   ]
  },
  {
   "cell_type": "code",
   "execution_count": 15,
   "metadata": {},
   "outputs": [
    {
     "data": {
      "text/plain": [
       "checkin_acc          0\n",
       "duration             0\n",
       "credit_history       0\n",
       "purpose              0\n",
       "amount               0\n",
       "svaing_acc           0\n",
       "present_emp_since    0\n",
       "inst_rate            0\n",
       "personal_status      0\n",
       "other_debtors        0\n",
       "residing_since       0\n",
       "property             0\n",
       "age                  0\n",
       "inst_plans           0\n",
       "housing              0\n",
       "num_credits          0\n",
       "job                  0\n",
       "dependents           0\n",
       "telephone            0\n",
       "foreign_worker       0\n",
       "status               0\n",
       "dtype: int64"
      ]
     },
     "execution_count": 15,
     "metadata": {},
     "output_type": "execute_result"
    }
   ],
   "source": [
    "bankloans.isnull().sum()"
   ]
  },
  {
   "cell_type": "code",
   "execution_count": 17,
   "metadata": {},
   "outputs": [],
   "source": [
    "#Segregating the numeric and categorical variable names\n",
    "\n",
    "numeric_var_names = [key for key in dict(bankloans.dtypes) if dict(bankloans.dtypes)[key] in ['float64', 'int64', 'float32', 'int32']]\n",
    "catgorical_var_names = [key for key in dict(bankloans.dtypes) if dict(bankloans.dtypes)[key] in ['object']]\n"
   ]
  },
  {
   "cell_type": "code",
   "execution_count": 19,
   "metadata": {},
   "outputs": [
    {
     "data": {
      "image/png": "[encoded data removed]",
      "text/plain": [
       "<Figure size 576x396 with 1 Axes>"
      ]
     },
     "metadata": {},
     "output_type": "display_data"
    }
   ],
   "source": [
    "sns.boxplot(y = \"duration\",data=bankloans)\n",
    "plt.title(\"Box-Plot of duration\")\n",
    "plt.show()"
   ]
  },
  {
   "cell_type": "code",
   "execution_count": 22,
   "metadata": {},
   "outputs": [
    {
     "data": {
      "image/png": "[encoded data removed]",
      "text/plain": [
       "<Figure size 576x396 with 1 Axes>"
      ]
     },
     "metadata": {},
     "output_type": "display_data"
    }
   ],
   "source": [
    "sns.boxplot(y = \"amount\",data=bankloans)\n",
    "plt.title(\"Box-Plot of amount\")\n",
    "plt.show()"
   ]
  },
  {
   "cell_type": "code",
   "execution_count": 33,
   "metadata": {},
   "outputs": [
    {
     "data": {
      "image/png": "[encoded data removed]",
      "text/plain": [
       "<Figure size 576x396 with 1 Axes>"
      ]
     },
     "metadata": {},
     "output_type": "display_data"
    }
   ],
   "source": [
    "sns.boxplot(y = \"inst_rate\",data=bankloans)\n",
    "plt.title(\"Box-Plot of inst_rate\")\n",
    "plt.show()"
   ]
  },
  {
   "cell_type": "code",
   "execution_count": 36,
   "metadata": {},
   "outputs": [
    {
     "data": {
      "text/html": [
       "<div>\n",
       "<style scoped>\n",
       "    .dataframe tbody tr th:only-of-type {\n",
       "        vertical-align: middle;\n",
       "    }\n",
       "\n",
       "    .dataframe tbody tr th {\n",
       "        vertical-align: top;\n",
       "    }\n",
       "\n",
       "    .dataframe thead th {\n",
       "        text-align: right;\n",
       "    }\n",
       "</style>\n",
       "<table border=\"1\" class=\"dataframe\">\n",
       "  <thead>\n",
       "    <tr style=\"text-align: right;\">\n",
       "      <th></th>\n",
       "      <th>duration</th>\n",
       "      <th>amount</th>\n",
       "      <th>inst_rate</th>\n",
       "      <th>residing_since</th>\n",
       "      <th>age</th>\n",
       "      <th>num_credits</th>\n",
       "      <th>dependents</th>\n",
       "      <th>status</th>\n",
       "    </tr>\n",
       "  </thead>\n",
       "  <tbody>\n",
       "    <tr>\n",
       "      <th>duration</th>\n",
       "      <td>1.000000</td>\n",
       "      <td>0.625128</td>\n",
       "      <td>0.066263</td>\n",
       "      <td>0.024970</td>\n",
       "      <td>-0.037106</td>\n",
       "      <td>-0.026296</td>\n",
       "      <td>-0.024283</td>\n",
       "      <td>0.214668</td>\n",
       "    </tr>\n",
       "    <tr>\n",
       "      <th>amount</th>\n",
       "      <td>0.625128</td>\n",
       "      <td>1.000000</td>\n",
       "      <td>-0.272906</td>\n",
       "      <td>0.018909</td>\n",
       "      <td>0.032873</td>\n",
       "      <td>0.016287</td>\n",
       "      <td>0.017143</td>\n",
       "      <td>0.154739</td>\n",
       "    </tr>\n",
       "    <tr>\n",
       "      <th>inst_rate</th>\n",
       "      <td>0.066263</td>\n",
       "      <td>-0.272906</td>\n",
       "      <td>1.000000</td>\n",
       "      <td>0.047184</td>\n",
       "      <td>0.056342</td>\n",
       "      <td>0.007988</td>\n",
       "      <td>-0.066704</td>\n",
       "      <td>0.071108</td>\n",
       "    </tr>\n",
       "    <tr>\n",
       "      <th>residing_since</th>\n",
       "      <td>0.024970</td>\n",
       "      <td>0.018909</td>\n",
       "      <td>0.047184</td>\n",
       "      <td>1.000000</td>\n",
       "      <td>0.268296</td>\n",
       "      <td>0.102776</td>\n",
       "      <td>0.045624</td>\n",
       "      <td>-0.000139</td>\n",
       "    </tr>\n",
       "    <tr>\n",
       "      <th>age</th>\n",
       "      <td>-0.037106</td>\n",
       "      <td>0.032873</td>\n",
       "      <td>0.056342</td>\n",
       "      <td>0.268296</td>\n",
       "      <td>1.000000</td>\n",
       "      <td>0.164017</td>\n",
       "      <td>0.117814</td>\n",
       "      <td>-0.090807</td>\n",
       "    </tr>\n",
       "    <tr>\n",
       "      <th>num_credits</th>\n",
       "      <td>-0.026296</td>\n",
       "      <td>0.016287</td>\n",
       "      <td>0.007988</td>\n",
       "      <td>0.102776</td>\n",
       "      <td>0.164017</td>\n",
       "      <td>1.000000</td>\n",
       "      <td>0.117438</td>\n",
       "      <td>-0.044738</td>\n",
       "    </tr>\n",
       "    <tr>\n",
       "      <th>dependents</th>\n",
       "      <td>-0.024283</td>\n",
       "      <td>0.017143</td>\n",
       "      <td>-0.066704</td>\n",
       "      <td>0.045624</td>\n",
       "      <td>0.117814</td>\n",
       "      <td>0.117438</td>\n",
       "      <td>1.000000</td>\n",
       "      <td>-0.003015</td>\n",
       "    </tr>\n",
       "    <tr>\n",
       "      <th>status</th>\n",
       "      <td>0.214668</td>\n",
       "      <td>0.154739</td>\n",
       "      <td>0.071108</td>\n",
       "      <td>-0.000139</td>\n",
       "      <td>-0.090807</td>\n",
       "      <td>-0.044738</td>\n",
       "      <td>-0.003015</td>\n",
       "      <td>1.000000</td>\n",
       "    </tr>\n",
       "  </tbody>\n",
       "</table>\n",
       "</div>"
      ],
      "text/plain": [
       "                duration    amount  inst_rate  residing_since       age  num_credits  dependents    status\n",
       "duration        1.000000  0.625128   0.066263        0.024970 -0.037106    -0.026296   -0.024283  0.214668\n",
       "amount          0.625128  1.000000  -0.272906        0.018909  0.032873     0.016287    0.017143  0.154739\n",
       "inst_rate       0.066263 -0.272906   1.000000        0.047184  0.056342     0.007988   -0.066704  0.071108\n",
       "residing_since  0.024970  0.018909   0.047184        1.000000  0.268296     0.102776    0.045624 -0.000139\n",
       "age            -0.037106  0.032873   0.056342        0.268296  1.000000     0.164017    0.117814 -0.090807\n",
       "num_credits    -0.026296  0.016287   0.007988        0.102776  0.164017     1.000000    0.117438 -0.044738\n",
       "dependents     -0.024283  0.017143  -0.066704        0.045624  0.117814     0.117438    1.000000 -0.003015\n",
       "status          0.214668  0.154739   0.071108       -0.000139 -0.090807    -0.044738   -0.003015  1.000000"
      ]
     },
     "execution_count": 36,
     "metadata": {},
     "output_type": "execute_result"
    }
   ],
   "source": [
    "bankloans.corr()"
   ]
  },
  {
   "cell_type": "code",
   "execution_count": 38,
   "metadata": {
    "scrolled": false
   },
   "outputs": [
    {
     "data": {
      "image/png": "[encoded data removed]",
      "text/plain": [
       "<Figure size 576x396 with 2 Axes>"
      ]
     },
     "metadata": {},
     "output_type": "display_data"
    }
   ],
   "source": [
    "#Visualize the correlation using seaborn heatmap\n",
    "sns.heatmap(bankloans.corr(),annot=True,fmt=\"0.2f\",cmap=\"coolwarm\")\n",
    "plt.show()"
   ]
  },
  {
   "cell_type": "code",
   "execution_count": 40,
   "metadata": {},
   "outputs": [
    {
     "data": {
      "text/plain": [
       "1    700\n",
       "2    300\n",
       "Name: status, dtype: int64"
      ]
     },
     "execution_count": 40,
     "metadata": {},
     "output_type": "execute_result"
    }
   ],
   "source": [
    "bankloans['status'].value_counts()"
   ]
  },
  {
   "cell_type": "code",
   "execution_count": 41,
   "metadata": {},
   "outputs": [
    {
     "data": {
      "image/png": "[encoded data removed]",
      "text/plain": [
       "<Figure size 576x396 with 1 Axes>"
      ]
     },
     "metadata": {},
     "output_type": "display_data"
    }
   ],
   "source": [
    "bankloans['status'].value_counts().plot.bar()\n",
    "plt.xlabel(\"status\")\n",
    "plt.ylabel(\"count\")\n",
    "plt.title(\"Distribution of status\")\n",
    "plt.show()"
   ]
  }
 ],
 "metadata": {
  "kernelspec": {
   "display_name": "Python 3",
   "language": "python",
   "name": "python3"
  },
  "language_info": {
   "codemirror_mode": {
    "name": "ipython",
    "version": 3
   },
   "file_extension": ".py",
   "mimetype": "text/x-python",
   "name": "python",
   "nbconvert_exporter": "python",
   "pygments_lexer": "ipython3",
   "version": "3.7.0"
  }
 },
 "nbformat": 4,
 "nbformat_minor": 2
}
